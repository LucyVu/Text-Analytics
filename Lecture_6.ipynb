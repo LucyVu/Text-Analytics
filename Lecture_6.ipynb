{
  "nbformat": 4,
  "nbformat_minor": 0,
  "metadata": {
    "colab": {
      "provenance": []
    },
    "kernelspec": {
      "name": "python3",
      "display_name": "Python 3"
    },
    "language_info": {
      "name": "python"
    }
  },
  "cells": [
    {
      "cell_type": "markdown",
      "source": [
        "#Language Modeling\n",
        "Language modeling in natural language processing (NLP) plays a pivotal role in the development of intelligent systems that can understand and generate human language. Essentially, a language model aims to predict the likelihood of a sequence of words or the probability of the next word given a specific context. By capturing the underlying structure and patterns in textual data, language models facilitate various NLP tasks, such as machine translation, text summarization, sentiment analysis, and conversational AI.\n"
      ],
      "metadata": {
        "id": "iEgclihJUPC3"
      }
    },
    {
      "cell_type": "markdown",
      "source": [
        "#Probabilistic Language Modeling with n-grams\n",
        "Probabilistic language modeling using n-grams is a fundamental approach in NLP that leverages the statistical properties of text to predict word sequences. An n-gram model represents text as contiguous sequences of n words, where the context for predicting the next word is limited to the previous n-1 words. For instance, a bigram (n=2) model restricts the context to a single preceding word, while a trigram (n=3) model considers the two preceding words.\n",
        "N-gram models estimate the probabilities of word sequences by calculating their frequency in a given corpus. They utilize the Markov assumption, which states that the probability of the next word depends only on the preceding n-1 words, thus simplifying computation.\n",
        "\n",
        "Despite their simplicity, n-gram models have been widely used in various NLP tasks, such as speech recognition, machine translation, and text generation. However, they have limitations, including data sparsity and the inability to capture long-range dependencies in text. The emergence of more sophisticated techniques like deep learning-based language models has shifted the focus, but n-gram models still hold relevance as a foundation for understanding language modeling and its development.\n",
        "\n",
        "In this session, we will explore n-grams-based language modeling. We will also explore language modeling using word embeddings.\n"
      ],
      "metadata": {
        "id": "xjh4t0WZUk9e"
      }
    },
    {
      "cell_type": "markdown",
      "source": [
        "#Example: A Jane Austin Novel\n",
        "We will explore ‘next word prediction’ and ‘text generation’ based on the Jane Austin novel ‘Sense and Sensibility’. Let’s look first at all the books that are available.\n"
      ],
      "metadata": {
        "id": "Ee4joPHvVqyU"
      }
    },
    {
      "cell_type": "markdown",
      "source": [
        "## View Books and Download"
      ],
      "metadata": {
        "id": "8fFPzF_QbRcd"
      }
    },
    {
      "cell_type": "code",
      "source": [
        "import nltk\n",
        "nltk.download('gutenberg')  # Make sure the Gutenberg corpus is downloaded\n",
        "from nltk.corpus import gutenberg"
      ],
      "metadata": {
        "id": "mUhVAAMI4VXR",
        "outputId": "995a2f73-8f46-4894-e496-757e62bde305",
        "colab": {
          "base_uri": "https://localhost:8080/"
        }
      },
      "execution_count": 1,
      "outputs": [
        {
          "output_type": "stream",
          "name": "stderr",
          "text": [
            "[nltk_data] Downloading package gutenberg to /root/nltk_data...\n",
            "[nltk_data]   Unzipping corpora/gutenberg.zip.\n"
          ]
        }
      ]
    },
    {
      "cell_type": "code",
      "source": [
        "# List available texts in the Gutenberg corpus\n",
        "print(gutenberg.fileids())"
      ],
      "metadata": {
        "id": "3f6uY6EUWHEd",
        "outputId": "a1e499d1-9400-4fd2-faea-90d8e97ed2a3",
        "colab": {
          "base_uri": "https://localhost:8080/"
        }
      },
      "execution_count": 4,
      "outputs": [
        {
          "output_type": "stream",
          "name": "stdout",
          "text": [
            "['austen-emma.txt', 'austen-persuasion.txt', 'austen-sense.txt', 'bible-kjv.txt', 'blake-poems.txt', 'bryant-stories.txt', 'burgess-busterbrown.txt', 'carroll-alice.txt', 'chesterton-ball.txt', 'chesterton-brown.txt', 'chesterton-thursday.txt', 'edgeworth-parents.txt', 'melville-moby_dick.txt', 'milton-paradise.txt', 'shakespeare-caesar.txt', 'shakespeare-hamlet.txt', 'shakespeare-macbeth.txt', 'whitman-leaves.txt']\n"
          ]
        }
      ]
    },
    {
      "cell_type": "code",
      "source": [
        "# Load \"Sense and Sensibility\" text\n",
        "sas = gutenberg.raw('austen-sense.txt')\n",
        "\n",
        "# Print the first 500 characters of \"Sense and Sensibility\"\n",
        "print(sas[:500])\n"
      ],
      "metadata": {
        "id": "ZWmkgwQIWnu1",
        "outputId": "4d9ca78a-27d9-4e1d-8d31-c835445ed3f1",
        "colab": {
          "base_uri": "https://localhost:8080/"
        }
      },
      "execution_count": 5,
      "outputs": [
        {
          "output_type": "stream",
          "name": "stdout",
          "text": [
            "[Sense and Sensibility by Jane Austen 1811]\n",
            "\n",
            "CHAPTER 1\n",
            "\n",
            "\n",
            "The family of Dashwood had long been settled in Sussex.\n",
            "Their estate was large, and their residence was at Norland Park,\n",
            "in the centre of their property, where, for many generations,\n",
            "they had lived in so respectable a manner as to engage\n",
            "the general good opinion of their surrounding acquaintance.\n",
            "The late owner of this estate was a single man, who lived\n",
            "to a very advanced age, and who for many years of his life,\n",
            "had a constant companion an\n"
          ]
        }
      ]
    },
    {
      "cell_type": "markdown",
      "source": [
        "##n-gram Model for Next Word Prediction and Text Generation.\n",
        "\n",
        "Following are the key steps.\n",
        "\n",
        "* **Step 1: Preprocess the Text**\n",
        "\n",
        "Start by tokenizing the text.\n",
        "\n",
        "* **Step 2: Build the N-gram Model**\n",
        "\n",
        "Create a trigram model, which will be used for predicting the next word based on the previous two words.\n",
        "\n",
        "* **Step 3: Next Word Prediction**\n",
        "\n",
        "Write a function that takes two words as input and predicts the most probable next word.\n",
        "\n",
        "* **Step 4: Text Generation**\n",
        "\n",
        "Using the trigram model, generate text by iteratively predicting the next word."
      ],
      "metadata": {
        "id": "W8cLDMiEZgot"
      }
    },
    {
      "cell_type": "code",
      "source": [
        "import nltk\n",
        "from nltk import word_tokenize, ngrams\n",
        "from collections import defaultdict, Counter\n",
        "nltk.download('punkt')\n",
        "\n",
        "# Tokenize the text\n",
        "tokens = word_tokenize(sas.lower())  # Convert to lower case\n",
        "\n",
        "# Generate trigrams from the tokens\n",
        "trigrams = list(ngrams(tokens, 3))\n",
        "trigram_freq = defaultdict(Counter)\n",
        "\n",
        "# Populate the frequencies of trigrams\n",
        "for w1, w2, w3 in trigrams:\n",
        "    trigram_freq[(w1, w2)][w3] += 1\n",
        "\n",
        "# Function to predict the next word\n",
        "def predict_next_word(w1, w2):\n",
        "    if (w1, w2) in trigram_freq:\n",
        "        # Get the most common next word for the given bigram (w1, w2)\n",
        "        return trigram_freq[(w1, w2)].most_common(1)[0][0]\n",
        "    else:\n",
        "        return None\n",
        "\n",
        "# Function to generate text\n",
        "def generate_text(start_words, num_words):\n",
        "    if len(start_words) < 2:\n",
        "        return \"Please provide at least two starting words.\"\n",
        "\n",
        "    generated_words = list(start_words)\n",
        "    for _ in range(num_words):\n",
        "        next_word = predict_next_word(generated_words[-2], generated_words[-1]) # take last 2 words to predict the next word\n",
        "        if next_word is None:\n",
        "            break  # Break if no next word is found\n",
        "        generated_words.append(next_word)\n",
        "\n",
        "    return ' '.join(generated_words)\n",
        "\n"
      ],
      "metadata": {
        "id": "0Vxf3sp1ZhDc",
        "outputId": "34660283-348a-4836-e4a1-9a1231a8f80b",
        "colab": {
          "base_uri": "https://localhost:8080/"
        }
      },
      "execution_count": 7,
      "outputs": [
        {
          "output_type": "stream",
          "name": "stderr",
          "text": [
            "[nltk_data] Downloading package punkt to /root/nltk_data...\n",
            "[nltk_data]   Package punkt is already up-to-date!\n"
          ]
        }
      ]
    },
    {
      "cell_type": "code",
      "source": [
        "trigrams"
      ],
      "metadata": {
        "id": "s1p36XVyw5o1",
        "outputId": "a3dd0ad6-f786-4980-9571-abff65073d4a",
        "colab": {
          "base_uri": "https://localhost:8080/"
        }
      },
      "execution_count": 8,
      "outputs": [
        {
          "output_type": "execute_result",
          "data": {
            "text/plain": [
              "[('[', 'sense', 'and'),\n",
              " ('sense', 'and', 'sensibility'),\n",
              " ('and', 'sensibility', 'by'),\n",
              " ('sensibility', 'by', 'jane'),\n",
              " ('by', 'jane', 'austen'),\n",
              " ('jane', 'austen', '1811'),\n",
              " ('austen', '1811', ']'),\n",
              " ('1811', ']', 'chapter'),\n",
              " (']', 'chapter', '1'),\n",
              " ('chapter', '1', 'the'),\n",
              " ('1', 'the', 'family'),\n",
              " ('the', 'family', 'of'),\n",
              " ('family', 'of', 'dashwood'),\n",
              " ('of', 'dashwood', 'had'),\n",
              " ('dashwood', 'had', 'long'),\n",
              " ('had', 'long', 'been'),\n",
              " ('long', 'been', 'settled'),\n",
              " ('been', 'settled', 'in'),\n",
              " ('settled', 'in', 'sussex'),\n",
              " ('in', 'sussex', '.'),\n",
              " ('sussex', '.', 'their'),\n",
              " ('.', 'their', 'estate'),\n",
              " ('their', 'estate', 'was'),\n",
              " ('estate', 'was', 'large'),\n",
              " ('was', 'large', ','),\n",
              " ('large', ',', 'and'),\n",
              " (',', 'and', 'their'),\n",
              " ('and', 'their', 'residence'),\n",
              " ('their', 'residence', 'was'),\n",
              " ('residence', 'was', 'at'),\n",
              " ('was', 'at', 'norland'),\n",
              " ('at', 'norland', 'park'),\n",
              " ('norland', 'park', ','),\n",
              " ('park', ',', 'in'),\n",
              " (',', 'in', 'the'),\n",
              " ('in', 'the', 'centre'),\n",
              " ('the', 'centre', 'of'),\n",
              " ('centre', 'of', 'their'),\n",
              " ('of', 'their', 'property'),\n",
              " ('their', 'property', ','),\n",
              " ('property', ',', 'where'),\n",
              " (',', 'where', ','),\n",
              " ('where', ',', 'for'),\n",
              " (',', 'for', 'many'),\n",
              " ('for', 'many', 'generations'),\n",
              " ('many', 'generations', ','),\n",
              " ('generations', ',', 'they'),\n",
              " (',', 'they', 'had'),\n",
              " ('they', 'had', 'lived'),\n",
              " ('had', 'lived', 'in'),\n",
              " ('lived', 'in', 'so'),\n",
              " ('in', 'so', 'respectable'),\n",
              " ('so', 'respectable', 'a'),\n",
              " ('respectable', 'a', 'manner'),\n",
              " ('a', 'manner', 'as'),\n",
              " ('manner', 'as', 'to'),\n",
              " ('as', 'to', 'engage'),\n",
              " ('to', 'engage', 'the'),\n",
              " ('engage', 'the', 'general'),\n",
              " ('the', 'general', 'good'),\n",
              " ('general', 'good', 'opinion'),\n",
              " ('good', 'opinion', 'of'),\n",
              " ('opinion', 'of', 'their'),\n",
              " ('of', 'their', 'surrounding'),\n",
              " ('their', 'surrounding', 'acquaintance'),\n",
              " ('surrounding', 'acquaintance', '.'),\n",
              " ('acquaintance', '.', 'the'),\n",
              " ('.', 'the', 'late'),\n",
              " ('the', 'late', 'owner'),\n",
              " ('late', 'owner', 'of'),\n",
              " ('owner', 'of', 'this'),\n",
              " ('of', 'this', 'estate'),\n",
              " ('this', 'estate', 'was'),\n",
              " ('estate', 'was', 'a'),\n",
              " ('was', 'a', 'single'),\n",
              " ('a', 'single', 'man'),\n",
              " ('single', 'man', ','),\n",
              " ('man', ',', 'who'),\n",
              " (',', 'who', 'lived'),\n",
              " ('who', 'lived', 'to'),\n",
              " ('lived', 'to', 'a'),\n",
              " ('to', 'a', 'very'),\n",
              " ('a', 'very', 'advanced'),\n",
              " ('very', 'advanced', 'age'),\n",
              " ('advanced', 'age', ','),\n",
              " ('age', ',', 'and'),\n",
              " (',', 'and', 'who'),\n",
              " ('and', 'who', 'for'),\n",
              " ('who', 'for', 'many'),\n",
              " ('for', 'many', 'years'),\n",
              " ('many', 'years', 'of'),\n",
              " ('years', 'of', 'his'),\n",
              " ('of', 'his', 'life'),\n",
              " ('his', 'life', ','),\n",
              " ('life', ',', 'had'),\n",
              " (',', 'had', 'a'),\n",
              " ('had', 'a', 'constant'),\n",
              " ('a', 'constant', 'companion'),\n",
              " ('constant', 'companion', 'and'),\n",
              " ('companion', 'and', 'housekeeper'),\n",
              " ('and', 'housekeeper', 'in'),\n",
              " ('housekeeper', 'in', 'his'),\n",
              " ('in', 'his', 'sister'),\n",
              " ('his', 'sister', '.'),\n",
              " ('sister', '.', 'but'),\n",
              " ('.', 'but', 'her'),\n",
              " ('but', 'her', 'death'),\n",
              " ('her', 'death', ','),\n",
              " ('death', ',', 'which'),\n",
              " (',', 'which', 'happened'),\n",
              " ('which', 'happened', 'ten'),\n",
              " ('happened', 'ten', 'years'),\n",
              " ('ten', 'years', 'before'),\n",
              " ('years', 'before', 'his'),\n",
              " ('before', 'his', 'own'),\n",
              " ('his', 'own', ','),\n",
              " ('own', ',', 'produced'),\n",
              " (',', 'produced', 'a'),\n",
              " ('produced', 'a', 'great'),\n",
              " ('a', 'great', 'alteration'),\n",
              " ('great', 'alteration', 'in'),\n",
              " ('alteration', 'in', 'his'),\n",
              " ('in', 'his', 'home'),\n",
              " ('his', 'home', ';'),\n",
              " ('home', ';', 'for'),\n",
              " (';', 'for', 'to'),\n",
              " ('for', 'to', 'supply'),\n",
              " ('to', 'supply', 'her'),\n",
              " ('supply', 'her', 'loss'),\n",
              " ('her', 'loss', ','),\n",
              " ('loss', ',', 'he'),\n",
              " (',', 'he', 'invited'),\n",
              " ('he', 'invited', 'and'),\n",
              " ('invited', 'and', 'received'),\n",
              " ('and', 'received', 'into'),\n",
              " ('received', 'into', 'his'),\n",
              " ('into', 'his', 'house'),\n",
              " ('his', 'house', 'the'),\n",
              " ('house', 'the', 'family'),\n",
              " ('the', 'family', 'of'),\n",
              " ('family', 'of', 'his'),\n",
              " ('of', 'his', 'nephew'),\n",
              " ('his', 'nephew', 'mr.'),\n",
              " ('nephew', 'mr.', 'henry'),\n",
              " ('mr.', 'henry', 'dashwood'),\n",
              " ('henry', 'dashwood', ','),\n",
              " ('dashwood', ',', 'the'),\n",
              " (',', 'the', 'legal'),\n",
              " ('the', 'legal', 'inheritor'),\n",
              " ('legal', 'inheritor', 'of'),\n",
              " ('inheritor', 'of', 'the'),\n",
              " ('of', 'the', 'norland'),\n",
              " ('the', 'norland', 'estate'),\n",
              " ('norland', 'estate', ','),\n",
              " ('estate', ',', 'and'),\n",
              " (',', 'and', 'the'),\n",
              " ('and', 'the', 'person'),\n",
              " ('the', 'person', 'to'),\n",
              " ('person', 'to', 'whom'),\n",
              " ('to', 'whom', 'he'),\n",
              " ('whom', 'he', 'intended'),\n",
              " ('he', 'intended', 'to'),\n",
              " ('intended', 'to', 'bequeath'),\n",
              " ('to', 'bequeath', 'it'),\n",
              " ('bequeath', 'it', '.'),\n",
              " ('it', '.', 'in'),\n",
              " ('.', 'in', 'the'),\n",
              " ('in', 'the', 'society'),\n",
              " ('the', 'society', 'of'),\n",
              " ('society', 'of', 'his'),\n",
              " ('of', 'his', 'nephew'),\n",
              " ('his', 'nephew', 'and'),\n",
              " ('nephew', 'and', 'niece'),\n",
              " ('and', 'niece', ','),\n",
              " ('niece', ',', 'and'),\n",
              " (',', 'and', 'their'),\n",
              " ('and', 'their', 'children'),\n",
              " ('their', 'children', ','),\n",
              " ('children', ',', 'the'),\n",
              " (',', 'the', 'old'),\n",
              " ('the', 'old', 'gentleman'),\n",
              " ('old', 'gentleman', \"'s\"),\n",
              " ('gentleman', \"'s\", 'days'),\n",
              " (\"'s\", 'days', 'were'),\n",
              " ('days', 'were', 'comfortably'),\n",
              " ('were', 'comfortably', 'spent'),\n",
              " ('comfortably', 'spent', '.'),\n",
              " ('spent', '.', 'his'),\n",
              " ('.', 'his', 'attachment'),\n",
              " ('his', 'attachment', 'to'),\n",
              " ('attachment', 'to', 'them'),\n",
              " ('to', 'them', 'all'),\n",
              " ('them', 'all', 'increased'),\n",
              " ('all', 'increased', '.'),\n",
              " ('increased', '.', 'the'),\n",
              " ('.', 'the', 'constant'),\n",
              " ('the', 'constant', 'attention'),\n",
              " ('constant', 'attention', 'of'),\n",
              " ('attention', 'of', 'mr.'),\n",
              " ('of', 'mr.', 'and'),\n",
              " ('mr.', 'and', 'mrs.'),\n",
              " ('and', 'mrs.', 'henry'),\n",
              " ('mrs.', 'henry', 'dashwood'),\n",
              " ('henry', 'dashwood', 'to'),\n",
              " ('dashwood', 'to', 'his'),\n",
              " ('to', 'his', 'wishes'),\n",
              " ('his', 'wishes', ','),\n",
              " ('wishes', ',', 'which'),\n",
              " (',', 'which', 'proceeded'),\n",
              " ('which', 'proceeded', 'not'),\n",
              " ('proceeded', 'not', 'merely'),\n",
              " ('not', 'merely', 'from'),\n",
              " ('merely', 'from', 'interest'),\n",
              " ('from', 'interest', ','),\n",
              " ('interest', ',', 'but'),\n",
              " (',', 'but', 'from'),\n",
              " ('but', 'from', 'goodness'),\n",
              " ('from', 'goodness', 'of'),\n",
              " ('goodness', 'of', 'heart'),\n",
              " ('of', 'heart', ','),\n",
              " ('heart', ',', 'gave'),\n",
              " (',', 'gave', 'him'),\n",
              " ('gave', 'him', 'every'),\n",
              " ('him', 'every', 'degree'),\n",
              " ('every', 'degree', 'of'),\n",
              " ('degree', 'of', 'solid'),\n",
              " ('of', 'solid', 'comfort'),\n",
              " ('solid', 'comfort', 'which'),\n",
              " ('comfort', 'which', 'his'),\n",
              " ('which', 'his', 'age'),\n",
              " ('his', 'age', 'could'),\n",
              " ('age', 'could', 'receive'),\n",
              " ('could', 'receive', ';'),\n",
              " ('receive', ';', 'and'),\n",
              " (';', 'and', 'the'),\n",
              " ('and', 'the', 'cheerfulness'),\n",
              " ('the', 'cheerfulness', 'of'),\n",
              " ('cheerfulness', 'of', 'the'),\n",
              " ('of', 'the', 'children'),\n",
              " ('the', 'children', 'added'),\n",
              " ('children', 'added', 'a'),\n",
              " ('added', 'a', 'relish'),\n",
              " ('a', 'relish', 'to'),\n",
              " ('relish', 'to', 'his'),\n",
              " ('to', 'his', 'existence'),\n",
              " ('his', 'existence', '.'),\n",
              " ('existence', '.', 'by'),\n",
              " ('.', 'by', 'a'),\n",
              " ('by', 'a', 'former'),\n",
              " ('a', 'former', 'marriage'),\n",
              " ('former', 'marriage', ','),\n",
              " ('marriage', ',', 'mr.'),\n",
              " (',', 'mr.', 'henry'),\n",
              " ('mr.', 'henry', 'dashwood'),\n",
              " ('henry', 'dashwood', 'had'),\n",
              " ('dashwood', 'had', 'one'),\n",
              " ('had', 'one', 'son'),\n",
              " ('one', 'son', ':'),\n",
              " ('son', ':', 'by'),\n",
              " (':', 'by', 'his'),\n",
              " ('by', 'his', 'present'),\n",
              " ('his', 'present', 'lady'),\n",
              " ('present', 'lady', ','),\n",
              " ('lady', ',', 'three'),\n",
              " (',', 'three', 'daughters'),\n",
              " ('three', 'daughters', '.'),\n",
              " ('daughters', '.', 'the'),\n",
              " ('.', 'the', 'son'),\n",
              " ('the', 'son', ','),\n",
              " ('son', ',', 'a'),\n",
              " (',', 'a', 'steady'),\n",
              " ('a', 'steady', 'respectable'),\n",
              " ('steady', 'respectable', 'young'),\n",
              " ('respectable', 'young', 'man'),\n",
              " ('young', 'man', ','),\n",
              " ('man', ',', 'was'),\n",
              " (',', 'was', 'amply'),\n",
              " ('was', 'amply', 'provided'),\n",
              " ('amply', 'provided', 'for'),\n",
              " ('provided', 'for', 'by'),\n",
              " ('for', 'by', 'the'),\n",
              " ('by', 'the', 'fortune'),\n",
              " ('the', 'fortune', 'of'),\n",
              " ('fortune', 'of', 'his'),\n",
              " ('of', 'his', 'mother'),\n",
              " ('his', 'mother', ','),\n",
              " ('mother', ',', 'which'),\n",
              " (',', 'which', 'had'),\n",
              " ('which', 'had', 'been'),\n",
              " ('had', 'been', 'large'),\n",
              " ('been', 'large', ','),\n",
              " ('large', ',', 'and'),\n",
              " (',', 'and', 'half'),\n",
              " ('and', 'half', 'of'),\n",
              " ('half', 'of', 'which'),\n",
              " ('of', 'which', 'devolved'),\n",
              " ('which', 'devolved', 'on'),\n",
              " ('devolved', 'on', 'him'),\n",
              " ('on', 'him', 'on'),\n",
              " ('him', 'on', 'his'),\n",
              " ('on', 'his', 'coming'),\n",
              " ('his', 'coming', 'of'),\n",
              " ('coming', 'of', 'age'),\n",
              " ('of', 'age', '.'),\n",
              " ('age', '.', 'by'),\n",
              " ('.', 'by', 'his'),\n",
              " ('by', 'his', 'own'),\n",
              " ('his', 'own', 'marriage'),\n",
              " ('own', 'marriage', ','),\n",
              " ('marriage', ',', 'likewise'),\n",
              " (',', 'likewise', ','),\n",
              " ('likewise', ',', 'which'),\n",
              " (',', 'which', 'happened'),\n",
              " ('which', 'happened', 'soon'),\n",
              " ('happened', 'soon', 'afterwards'),\n",
              " ('soon', 'afterwards', ','),\n",
              " ('afterwards', ',', 'he'),\n",
              " (',', 'he', 'added'),\n",
              " ('he', 'added', 'to'),\n",
              " ('added', 'to', 'his'),\n",
              " ('to', 'his', 'wealth'),\n",
              " ('his', 'wealth', '.'),\n",
              " ('wealth', '.', 'to'),\n",
              " ('.', 'to', 'him'),\n",
              " ('to', 'him', 'therefore'),\n",
              " ('him', 'therefore', 'the'),\n",
              " ('therefore', 'the', 'succession'),\n",
              " ('the', 'succession', 'to'),\n",
              " ('succession', 'to', 'the'),\n",
              " ('to', 'the', 'norland'),\n",
              " ('the', 'norland', 'estate'),\n",
              " ('norland', 'estate', 'was'),\n",
              " ('estate', 'was', 'not'),\n",
              " ('was', 'not', 'so'),\n",
              " ('not', 'so', 'really'),\n",
              " ('so', 'really', 'important'),\n",
              " ('really', 'important', 'as'),\n",
              " ('important', 'as', 'to'),\n",
              " ('as', 'to', 'his'),\n",
              " ('to', 'his', 'sisters'),\n",
              " ('his', 'sisters', ';'),\n",
              " ('sisters', ';', 'for'),\n",
              " (';', 'for', 'their'),\n",
              " ('for', 'their', 'fortune'),\n",
              " ('their', 'fortune', ','),\n",
              " ('fortune', ',', 'independent'),\n",
              " (',', 'independent', 'of'),\n",
              " ('independent', 'of', 'what'),\n",
              " ('of', 'what', 'might'),\n",
              " ('what', 'might', 'arise'),\n",
              " ('might', 'arise', 'to'),\n",
              " ('arise', 'to', 'them'),\n",
              " ('to', 'them', 'from'),\n",
              " ('them', 'from', 'their'),\n",
              " ('from', 'their', 'father'),\n",
              " ('their', 'father', \"'s\"),\n",
              " ('father', \"'s\", 'inheriting'),\n",
              " (\"'s\", 'inheriting', 'that'),\n",
              " ('inheriting', 'that', 'property'),\n",
              " ('that', 'property', ','),\n",
              " ('property', ',', 'could'),\n",
              " (',', 'could', 'be'),\n",
              " ('could', 'be', 'but'),\n",
              " ('be', 'but', 'small'),\n",
              " ('but', 'small', '.'),\n",
              " ('small', '.', 'their'),\n",
              " ('.', 'their', 'mother'),\n",
              " ('their', 'mother', 'had'),\n",
              " ('mother', 'had', 'nothing'),\n",
              " ('had', 'nothing', ','),\n",
              " ('nothing', ',', 'and'),\n",
              " (',', 'and', 'their'),\n",
              " ('and', 'their', 'father'),\n",
              " ('their', 'father', 'only'),\n",
              " ('father', 'only', 'seven'),\n",
              " ('only', 'seven', 'thousand'),\n",
              " ('seven', 'thousand', 'pounds'),\n",
              " ('thousand', 'pounds', 'in'),\n",
              " ('pounds', 'in', 'his'),\n",
              " ('in', 'his', 'own'),\n",
              " ('his', 'own', 'disposal'),\n",
              " ('own', 'disposal', ';'),\n",
              " ('disposal', ';', 'for'),\n",
              " (';', 'for', 'the'),\n",
              " ('for', 'the', 'remaining'),\n",
              " ('the', 'remaining', 'moiety'),\n",
              " ('remaining', 'moiety', 'of'),\n",
              " ('moiety', 'of', 'his'),\n",
              " ('of', 'his', 'first'),\n",
              " ('his', 'first', 'wife'),\n",
              " ('first', 'wife', \"'s\"),\n",
              " ('wife', \"'s\", 'fortune'),\n",
              " (\"'s\", 'fortune', 'was'),\n",
              " ('fortune', 'was', 'also'),\n",
              " ('was', 'also', 'secured'),\n",
              " ('also', 'secured', 'to'),\n",
              " ('secured', 'to', 'her'),\n",
              " ('to', 'her', 'child'),\n",
              " ('her', 'child', ','),\n",
              " ('child', ',', 'and'),\n",
              " (',', 'and', 'he'),\n",
              " ('and', 'he', 'had'),\n",
              " ('he', 'had', 'only'),\n",
              " ('had', 'only', 'a'),\n",
              " ('only', 'a', 'life-interest'),\n",
              " ('a', 'life-interest', 'in'),\n",
              " ('life-interest', 'in', 'it'),\n",
              " ('in', 'it', '.'),\n",
              " ('it', '.', 'the'),\n",
              " ('.', 'the', 'old'),\n",
              " ('the', 'old', 'gentleman'),\n",
              " ('old', 'gentleman', 'died'),\n",
              " ('gentleman', 'died', ':'),\n",
              " ('died', ':', 'his'),\n",
              " (':', 'his', 'will'),\n",
              " ('his', 'will', 'was'),\n",
              " ('will', 'was', 'read'),\n",
              " ('was', 'read', ','),\n",
              " ('read', ',', 'and'),\n",
              " (',', 'and', 'like'),\n",
              " ('and', 'like', 'almost'),\n",
              " ('like', 'almost', 'every'),\n",
              " ('almost', 'every', 'other'),\n",
              " ('every', 'other', 'will'),\n",
              " ('other', 'will', ','),\n",
              " ('will', ',', 'gave'),\n",
              " (',', 'gave', 'as'),\n",
              " ('gave', 'as', 'much'),\n",
              " ('as', 'much', 'disappointment'),\n",
              " ('much', 'disappointment', 'as'),\n",
              " ('disappointment', 'as', 'pleasure'),\n",
              " ('as', 'pleasure', '.'),\n",
              " ('pleasure', '.', 'he'),\n",
              " ('.', 'he', 'was'),\n",
              " ('he', 'was', 'neither'),\n",
              " ('was', 'neither', 'so'),\n",
              " ('neither', 'so', 'unjust'),\n",
              " ('so', 'unjust', ','),\n",
              " ('unjust', ',', 'nor'),\n",
              " (',', 'nor', 'so'),\n",
              " ('nor', 'so', 'ungrateful'),\n",
              " ('so', 'ungrateful', ','),\n",
              " ('ungrateful', ',', 'as'),\n",
              " (',', 'as', 'to'),\n",
              " ('as', 'to', 'leave'),\n",
              " ('to', 'leave', 'his'),\n",
              " ('leave', 'his', 'estate'),\n",
              " ('his', 'estate', 'from'),\n",
              " ('estate', 'from', 'his'),\n",
              " ('from', 'his', 'nephew'),\n",
              " ('his', 'nephew', ';'),\n",
              " ('nephew', ';', '--'),\n",
              " (';', '--', 'but'),\n",
              " ('--', 'but', 'he'),\n",
              " ('but', 'he', 'left'),\n",
              " ('he', 'left', 'it'),\n",
              " ('left', 'it', 'to'),\n",
              " ('it', 'to', 'him'),\n",
              " ('to', 'him', 'on'),\n",
              " ('him', 'on', 'such'),\n",
              " ('on', 'such', 'terms'),\n",
              " ('such', 'terms', 'as'),\n",
              " ('terms', 'as', 'destroyed'),\n",
              " ('as', 'destroyed', 'half'),\n",
              " ('destroyed', 'half', 'the'),\n",
              " ('half', 'the', 'value'),\n",
              " ('the', 'value', 'of'),\n",
              " ('value', 'of', 'the'),\n",
              " ('of', 'the', 'bequest'),\n",
              " ('the', 'bequest', '.'),\n",
              " ('bequest', '.', 'mr.'),\n",
              " ('.', 'mr.', 'dashwood'),\n",
              " ('mr.', 'dashwood', 'had'),\n",
              " ('dashwood', 'had', 'wished'),\n",
              " ('had', 'wished', 'for'),\n",
              " ('wished', 'for', 'it'),\n",
              " ('for', 'it', 'more'),\n",
              " ('it', 'more', 'for'),\n",
              " ('more', 'for', 'the'),\n",
              " ('for', 'the', 'sake'),\n",
              " ('the', 'sake', 'of'),\n",
              " ('sake', 'of', 'his'),\n",
              " ('of', 'his', 'wife'),\n",
              " ('his', 'wife', 'and'),\n",
              " ('wife', 'and', 'daughters'),\n",
              " ('and', 'daughters', 'than'),\n",
              " ('daughters', 'than', 'for'),\n",
              " ('than', 'for', 'himself'),\n",
              " ('for', 'himself', 'or'),\n",
              " ('himself', 'or', 'his'),\n",
              " ('or', 'his', 'son'),\n",
              " ('his', 'son', ';'),\n",
              " ('son', ';', '--'),\n",
              " (';', '--', 'but'),\n",
              " ('--', 'but', 'to'),\n",
              " ('but', 'to', 'his'),\n",
              " ('to', 'his', 'son'),\n",
              " ('his', 'son', ','),\n",
              " ('son', ',', 'and'),\n",
              " (',', 'and', 'his'),\n",
              " ('and', 'his', 'son'),\n",
              " ('his', 'son', \"'s\"),\n",
              " ('son', \"'s\", 'son'),\n",
              " (\"'s\", 'son', ','),\n",
              " ('son', ',', 'a'),\n",
              " (',', 'a', 'child'),\n",
              " ('a', 'child', 'of'),\n",
              " ('child', 'of', 'four'),\n",
              " ('of', 'four', 'years'),\n",
              " ('four', 'years', 'old'),\n",
              " ('years', 'old', ','),\n",
              " ('old', ',', 'it'),\n",
              " (',', 'it', 'was'),\n",
              " ('it', 'was', 'secured'),\n",
              " ('was', 'secured', ','),\n",
              " ('secured', ',', 'in'),\n",
              " (',', 'in', 'such'),\n",
              " ('in', 'such', 'a'),\n",
              " ('such', 'a', 'way'),\n",
              " ('a', 'way', ','),\n",
              " ('way', ',', 'as'),\n",
              " (',', 'as', 'to'),\n",
              " ('as', 'to', 'leave'),\n",
              " ('to', 'leave', 'to'),\n",
              " ('leave', 'to', 'himself'),\n",
              " ('to', 'himself', 'no'),\n",
              " ('himself', 'no', 'power'),\n",
              " ('no', 'power', 'of'),\n",
              " ('power', 'of', 'providing'),\n",
              " ('of', 'providing', 'for'),\n",
              " ('providing', 'for', 'those'),\n",
              " ('for', 'those', 'who'),\n",
              " ('those', 'who', 'were'),\n",
              " ('who', 'were', 'most'),\n",
              " ('were', 'most', 'dear'),\n",
              " ('most', 'dear', 'to'),\n",
              " ('dear', 'to', 'him'),\n",
              " ('to', 'him', ','),\n",
              " ('him', ',', 'and'),\n",
              " (',', 'and', 'who'),\n",
              " ('and', 'who', 'most'),\n",
              " ('who', 'most', 'needed'),\n",
              " ('most', 'needed', 'a'),\n",
              " ('needed', 'a', 'provision'),\n",
              " ('a', 'provision', 'by'),\n",
              " ('provision', 'by', 'any'),\n",
              " ('by', 'any', 'charge'),\n",
              " ('any', 'charge', 'on'),\n",
              " ('charge', 'on', 'the'),\n",
              " ('on', 'the', 'estate'),\n",
              " ('the', 'estate', ','),\n",
              " ('estate', ',', 'or'),\n",
              " (',', 'or', 'by'),\n",
              " ('or', 'by', 'any'),\n",
              " ('by', 'any', 'sale'),\n",
              " ('any', 'sale', 'of'),\n",
              " ('sale', 'of', 'its'),\n",
              " ('of', 'its', 'valuable'),\n",
              " ('its', 'valuable', 'woods'),\n",
              " ('valuable', 'woods', '.'),\n",
              " ('woods', '.', 'the'),\n",
              " ('.', 'the', 'whole'),\n",
              " ('the', 'whole', 'was'),\n",
              " ('whole', 'was', 'tied'),\n",
              " ('was', 'tied', 'up'),\n",
              " ('tied', 'up', 'for'),\n",
              " ('up', 'for', 'the'),\n",
              " ('for', 'the', 'benefit'),\n",
              " ('the', 'benefit', 'of'),\n",
              " ('benefit', 'of', 'this'),\n",
              " ('of', 'this', 'child'),\n",
              " ('this', 'child', ','),\n",
              " ('child', ',', 'who'),\n",
              " (',', 'who', ','),\n",
              " ('who', ',', 'in'),\n",
              " (',', 'in', 'occasional'),\n",
              " ('in', 'occasional', 'visits'),\n",
              " ('occasional', 'visits', 'with'),\n",
              " ('visits', 'with', 'his'),\n",
              " ('with', 'his', 'father'),\n",
              " ('his', 'father', 'and'),\n",
              " ('father', 'and', 'mother'),\n",
              " ('and', 'mother', 'at'),\n",
              " ('mother', 'at', 'norland'),\n",
              " ('at', 'norland', ','),\n",
              " ('norland', ',', 'had'),\n",
              " (',', 'had', 'so'),\n",
              " ('had', 'so', 'far'),\n",
              " ('so', 'far', 'gained'),\n",
              " ('far', 'gained', 'on'),\n",
              " ('gained', 'on', 'the'),\n",
              " ('on', 'the', 'affections'),\n",
              " ('the', 'affections', 'of'),\n",
              " ('affections', 'of', 'his'),\n",
              " ('of', 'his', 'uncle'),\n",
              " ('his', 'uncle', ','),\n",
              " ('uncle', ',', 'by'),\n",
              " (',', 'by', 'such'),\n",
              " ('by', 'such', 'attractions'),\n",
              " ('such', 'attractions', 'as'),\n",
              " ('attractions', 'as', 'are'),\n",
              " ('as', 'are', 'by'),\n",
              " ('are', 'by', 'no'),\n",
              " ('by', 'no', 'means'),\n",
              " ('no', 'means', 'unusual'),\n",
              " ('means', 'unusual', 'in'),\n",
              " ('unusual', 'in', 'children'),\n",
              " ('in', 'children', 'of'),\n",
              " ('children', 'of', 'two'),\n",
              " ('of', 'two', 'or'),\n",
              " ('two', 'or', 'three'),\n",
              " ('or', 'three', 'years'),\n",
              " ('three', 'years', 'old'),\n",
              " ('years', 'old', ';'),\n",
              " ('old', ';', 'an'),\n",
              " (';', 'an', 'imperfect'),\n",
              " ('an', 'imperfect', 'articulation'),\n",
              " ('imperfect', 'articulation', ','),\n",
              " ('articulation', ',', 'an'),\n",
              " (',', 'an', 'earnest'),\n",
              " ('an', 'earnest', 'desire'),\n",
              " ('earnest', 'desire', 'of'),\n",
              " ('desire', 'of', 'having'),\n",
              " ('of', 'having', 'his'),\n",
              " ('having', 'his', 'own'),\n",
              " ('his', 'own', 'way'),\n",
              " ('own', 'way', ','),\n",
              " ('way', ',', 'many'),\n",
              " (',', 'many', 'cunning'),\n",
              " ('many', 'cunning', 'tricks'),\n",
              " ('cunning', 'tricks', ','),\n",
              " ('tricks', ',', 'and'),\n",
              " (',', 'and', 'a'),\n",
              " ('and', 'a', 'great'),\n",
              " ('a', 'great', 'deal'),\n",
              " ('great', 'deal', 'of'),\n",
              " ('deal', 'of', 'noise'),\n",
              " ('of', 'noise', ','),\n",
              " ('noise', ',', 'as'),\n",
              " (',', 'as', 'to'),\n",
              " ('as', 'to', 'outweigh'),\n",
              " ('to', 'outweigh', 'all'),\n",
              " ('outweigh', 'all', 'the'),\n",
              " ('all', 'the', 'value'),\n",
              " ('the', 'value', 'of'),\n",
              " ('value', 'of', 'all'),\n",
              " ('of', 'all', 'the'),\n",
              " ('all', 'the', 'attention'),\n",
              " ('the', 'attention', 'which'),\n",
              " ('attention', 'which', ','),\n",
              " ('which', ',', 'for'),\n",
              " (',', 'for', 'years'),\n",
              " ('for', 'years', ','),\n",
              " ('years', ',', 'he'),\n",
              " (',', 'he', 'had'),\n",
              " ('he', 'had', 'received'),\n",
              " ('had', 'received', 'from'),\n",
              " ('received', 'from', 'his'),\n",
              " ('from', 'his', 'niece'),\n",
              " ('his', 'niece', 'and'),\n",
              " ('niece', 'and', 'her'),\n",
              " ('and', 'her', 'daughters'),\n",
              " ('her', 'daughters', '.'),\n",
              " ('daughters', '.', 'he'),\n",
              " ('.', 'he', 'meant'),\n",
              " ('he', 'meant', 'not'),\n",
              " ('meant', 'not', 'to'),\n",
              " ('not', 'to', 'be'),\n",
              " ('to', 'be', 'unkind'),\n",
              " ('be', 'unkind', ','),\n",
              " ('unkind', ',', 'however'),\n",
              " (',', 'however', ','),\n",
              " ('however', ',', 'and'),\n",
              " (',', 'and', ','),\n",
              " ('and', ',', 'as'),\n",
              " (',', 'as', 'a'),\n",
              " ('as', 'a', 'mark'),\n",
              " ('a', 'mark', 'of'),\n",
              " ('mark', 'of', 'his'),\n",
              " ('of', 'his', 'affection'),\n",
              " ('his', 'affection', 'for'),\n",
              " ('affection', 'for', 'the'),\n",
              " ('for', 'the', 'three'),\n",
              " ('the', 'three', 'girls'),\n",
              " ('three', 'girls', ','),\n",
              " ('girls', ',', 'he'),\n",
              " (',', 'he', 'left'),\n",
              " ('he', 'left', 'them'),\n",
              " ('left', 'them', 'a'),\n",
              " ('them', 'a', 'thousand'),\n",
              " ('a', 'thousand', 'pounds'),\n",
              " ('thousand', 'pounds', 'a-piece'),\n",
              " ('pounds', 'a-piece', '.'),\n",
              " ('a-piece', '.', 'mr.'),\n",
              " ('.', 'mr.', 'dashwood'),\n",
              " ('mr.', 'dashwood', \"'s\"),\n",
              " ('dashwood', \"'s\", 'disappointment'),\n",
              " (\"'s\", 'disappointment', 'was'),\n",
              " ('disappointment', 'was', ','),\n",
              " ('was', ',', 'at'),\n",
              " (',', 'at', 'first'),\n",
              " ('at', 'first', ','),\n",
              " ('first', ',', 'severe'),\n",
              " (',', 'severe', ';'),\n",
              " ('severe', ';', 'but'),\n",
              " (';', 'but', 'his'),\n",
              " ('but', 'his', 'temper'),\n",
              " ('his', 'temper', 'was'),\n",
              " ('temper', 'was', 'cheerful'),\n",
              " ('was', 'cheerful', 'and'),\n",
              " ('cheerful', 'and', 'sanguine'),\n",
              " ('and', 'sanguine', ';'),\n",
              " ('sanguine', ';', 'and'),\n",
              " (';', 'and', 'he'),\n",
              " ('and', 'he', 'might'),\n",
              " ('he', 'might', 'reasonably'),\n",
              " ('might', 'reasonably', 'hope'),\n",
              " ('reasonably', 'hope', 'to'),\n",
              " ('hope', 'to', 'live'),\n",
              " ('to', 'live', 'many'),\n",
              " ('live', 'many', 'years'),\n",
              " ('many', 'years', ','),\n",
              " ('years', ',', 'and'),\n",
              " (',', 'and', 'by'),\n",
              " ('and', 'by', 'living'),\n",
              " ('by', 'living', 'economically'),\n",
              " ('living', 'economically', ','),\n",
              " ('economically', ',', 'lay'),\n",
              " (',', 'lay', 'by'),\n",
              " ('lay', 'by', 'a'),\n",
              " ('by', 'a', 'considerable'),\n",
              " ('a', 'considerable', 'sum'),\n",
              " ('considerable', 'sum', 'from'),\n",
              " ('sum', 'from', 'the'),\n",
              " ('from', 'the', 'produce'),\n",
              " ('the', 'produce', 'of'),\n",
              " ('produce', 'of', 'an'),\n",
              " ('of', 'an', 'estate'),\n",
              " ('an', 'estate', 'already'),\n",
              " ('estate', 'already', 'large'),\n",
              " ('already', 'large', ','),\n",
              " ('large', ',', 'and'),\n",
              " (',', 'and', 'capable'),\n",
              " ('and', 'capable', 'of'),\n",
              " ('capable', 'of', 'almost'),\n",
              " ('of', 'almost', 'immediate'),\n",
              " ('almost', 'immediate', 'improvement'),\n",
              " ('immediate', 'improvement', '.'),\n",
              " ('improvement', '.', 'but'),\n",
              " ('.', 'but', 'the'),\n",
              " ('but', 'the', 'fortune'),\n",
              " ('the', 'fortune', ','),\n",
              " ('fortune', ',', 'which'),\n",
              " (',', 'which', 'had'),\n",
              " ('which', 'had', 'been'),\n",
              " ('had', 'been', 'so'),\n",
              " ('been', 'so', 'tardy'),\n",
              " ('so', 'tardy', 'in'),\n",
              " ('tardy', 'in', 'coming'),\n",
              " ('in', 'coming', ','),\n",
              " ('coming', ',', 'was'),\n",
              " (',', 'was', 'his'),\n",
              " ('was', 'his', 'only'),\n",
              " ('his', 'only', 'one'),\n",
              " ('only', 'one', 'twelvemonth'),\n",
              " ('one', 'twelvemonth', '.'),\n",
              " ('twelvemonth', '.', 'he'),\n",
              " ('.', 'he', 'survived'),\n",
              " ('he', 'survived', 'his'),\n",
              " ('survived', 'his', 'uncle'),\n",
              " ('his', 'uncle', 'no'),\n",
              " ('uncle', 'no', 'longer'),\n",
              " ('no', 'longer', ';'),\n",
              " ('longer', ';', 'and'),\n",
              " (';', 'and', 'ten'),\n",
              " ('and', 'ten', 'thousand'),\n",
              " ('ten', 'thousand', 'pounds'),\n",
              " ('thousand', 'pounds', ','),\n",
              " ('pounds', ',', 'including'),\n",
              " (',', 'including', 'the'),\n",
              " ('including', 'the', 'late'),\n",
              " ('the', 'late', 'legacies'),\n",
              " ('late', 'legacies', ','),\n",
              " ('legacies', ',', 'was'),\n",
              " (',', 'was', 'all'),\n",
              " ('was', 'all', 'that'),\n",
              " ('all', 'that', 'remained'),\n",
              " ('that', 'remained', 'for'),\n",
              " ('remained', 'for', 'his'),\n",
              " ('for', 'his', 'widow'),\n",
              " ('his', 'widow', 'and'),\n",
              " ('widow', 'and', 'daughters'),\n",
              " ('and', 'daughters', '.'),\n",
              " ('daughters', '.', 'his'),\n",
              " ('.', 'his', 'son'),\n",
              " ('his', 'son', 'was'),\n",
              " ('son', 'was', 'sent'),\n",
              " ('was', 'sent', 'for'),\n",
              " ('sent', 'for', 'as'),\n",
              " ('for', 'as', 'soon'),\n",
              " ('as', 'soon', 'as'),\n",
              " ('soon', 'as', 'his'),\n",
              " ('as', 'his', 'danger'),\n",
              " ('his', 'danger', 'was'),\n",
              " ('danger', 'was', 'known'),\n",
              " ('was', 'known', ','),\n",
              " ('known', ',', 'and'),\n",
              " (',', 'and', 'to'),\n",
              " ('and', 'to', 'him'),\n",
              " ('to', 'him', 'mr.'),\n",
              " ('him', 'mr.', 'dashwood'),\n",
              " ('mr.', 'dashwood', 'recommended'),\n",
              " ('dashwood', 'recommended', ','),\n",
              " ('recommended', ',', 'with'),\n",
              " (',', 'with', 'all'),\n",
              " ('with', 'all', 'the'),\n",
              " ('all', 'the', 'strength'),\n",
              " ('the', 'strength', 'and'),\n",
              " ('strength', 'and', 'urgency'),\n",
              " ('and', 'urgency', 'which'),\n",
              " ('urgency', 'which', 'illness'),\n",
              " ('which', 'illness', 'could'),\n",
              " ('illness', 'could', 'command'),\n",
              " ('could', 'command', ','),\n",
              " ('command', ',', 'the'),\n",
              " (',', 'the', 'interest'),\n",
              " ('the', 'interest', 'of'),\n",
              " ('interest', 'of', 'his'),\n",
              " ('of', 'his', 'mother-in-law'),\n",
              " ('his', 'mother-in-law', 'and'),\n",
              " ('mother-in-law', 'and', 'sisters'),\n",
              " ('and', 'sisters', '.'),\n",
              " ('sisters', '.', 'mr.'),\n",
              " ('.', 'mr.', 'john'),\n",
              " ('mr.', 'john', 'dashwood'),\n",
              " ('john', 'dashwood', 'had'),\n",
              " ('dashwood', 'had', 'not'),\n",
              " ('had', 'not', 'the'),\n",
              " ('not', 'the', 'strong'),\n",
              " ('the', 'strong', 'feelings'),\n",
              " ('strong', 'feelings', 'of'),\n",
              " ('feelings', 'of', 'the'),\n",
              " ('of', 'the', 'rest'),\n",
              " ('the', 'rest', 'of'),\n",
              " ('rest', 'of', 'the'),\n",
              " ('of', 'the', 'family'),\n",
              " ('the', 'family', ';'),\n",
              " ('family', ';', 'but'),\n",
              " (';', 'but', 'he'),\n",
              " ('but', 'he', 'was'),\n",
              " ('he', 'was', 'affected'),\n",
              " ('was', 'affected', 'by'),\n",
              " ('affected', 'by', 'a'),\n",
              " ('by', 'a', 'recommendation'),\n",
              " ('a', 'recommendation', 'of'),\n",
              " ('recommendation', 'of', 'such'),\n",
              " ('of', 'such', 'a'),\n",
              " ('such', 'a', 'nature'),\n",
              " ('a', 'nature', 'at'),\n",
              " ('nature', 'at', 'such'),\n",
              " ('at', 'such', 'a'),\n",
              " ('such', 'a', 'time'),\n",
              " ('a', 'time', ','),\n",
              " ('time', ',', 'and'),\n",
              " (',', 'and', 'he'),\n",
              " ('and', 'he', 'promised'),\n",
              " ('he', 'promised', 'to'),\n",
              " ('promised', 'to', 'do'),\n",
              " ('to', 'do', 'every'),\n",
              " ('do', 'every', 'thing'),\n",
              " ('every', 'thing', 'in'),\n",
              " ('thing', 'in', 'his'),\n",
              " ('in', 'his', 'power'),\n",
              " ('his', 'power', 'to'),\n",
              " ('power', 'to', 'make'),\n",
              " ('to', 'make', 'them'),\n",
              " ('make', 'them', 'comfortable'),\n",
              " ('them', 'comfortable', '.'),\n",
              " ('comfortable', '.', 'his'),\n",
              " ('.', 'his', 'father'),\n",
              " ('his', 'father', 'was'),\n",
              " ('father', 'was', 'rendered'),\n",
              " ('was', 'rendered', 'easy'),\n",
              " ('rendered', 'easy', 'by'),\n",
              " ('easy', 'by', 'such'),\n",
              " ('by', 'such', 'an'),\n",
              " ('such', 'an', 'assurance'),\n",
              " ('an', 'assurance', ','),\n",
              " ('assurance', ',', 'and'),\n",
              " (',', 'and', 'mr.'),\n",
              " ('and', 'mr.', 'john'),\n",
              " ('mr.', 'john', 'dashwood'),\n",
              " ('john', 'dashwood', 'had'),\n",
              " ('dashwood', 'had', 'then'),\n",
              " ('had', 'then', 'leisure'),\n",
              " ('then', 'leisure', 'to'),\n",
              " ('leisure', 'to', 'consider'),\n",
              " ('to', 'consider', 'how'),\n",
              " ('consider', 'how', 'much'),\n",
              " ('how', 'much', 'there'),\n",
              " ('much', 'there', 'might'),\n",
              " ('there', 'might', 'prudently'),\n",
              " ('might', 'prudently', 'be'),\n",
              " ('prudently', 'be', 'in'),\n",
              " ('be', 'in', 'his'),\n",
              " ('in', 'his', 'power'),\n",
              " ('his', 'power', 'to'),\n",
              " ('power', 'to', 'do'),\n",
              " ('to', 'do', 'for'),\n",
              " ('do', 'for', 'them'),\n",
              " ('for', 'them', '.'),\n",
              " ('them', '.', 'he'),\n",
              " ('.', 'he', 'was'),\n",
              " ('he', 'was', 'not'),\n",
              " ('was', 'not', 'an'),\n",
              " ('not', 'an', 'ill-disposed'),\n",
              " ('an', 'ill-disposed', 'young'),\n",
              " ('ill-disposed', 'young', 'man'),\n",
              " ('young', 'man', ','),\n",
              " ('man', ',', 'unless'),\n",
              " (',', 'unless', 'to'),\n",
              " ('unless', 'to', 'be'),\n",
              " ('to', 'be', 'rather'),\n",
              " ('be', 'rather', 'cold'),\n",
              " ('rather', 'cold', 'hearted'),\n",
              " ('cold', 'hearted', 'and'),\n",
              " ('hearted', 'and', 'rather'),\n",
              " ('and', 'rather', 'selfish'),\n",
              " ('rather', 'selfish', 'is'),\n",
              " ('selfish', 'is', 'to'),\n",
              " ('is', 'to', 'be'),\n",
              " ('to', 'be', 'ill-disposed'),\n",
              " ('be', 'ill-disposed', ':'),\n",
              " ('ill-disposed', ':', 'but'),\n",
              " (':', 'but', 'he'),\n",
              " ('but', 'he', 'was'),\n",
              " ('he', 'was', ','),\n",
              " ('was', ',', 'in'),\n",
              " (',', 'in', 'general'),\n",
              " ('in', 'general', ','),\n",
              " ('general', ',', 'well'),\n",
              " (',', 'well', 'respected'),\n",
              " ('well', 'respected', ';'),\n",
              " ('respected', ';', 'for'),\n",
              " (';', 'for', 'he'),\n",
              " ('for', 'he', 'conducted'),\n",
              " ('he', 'conducted', 'himself'),\n",
              " ('conducted', 'himself', 'with'),\n",
              " ('himself', 'with', 'propriety'),\n",
              " ('with', 'propriety', 'in'),\n",
              " ('propriety', 'in', 'the'),\n",
              " ('in', 'the', 'discharge'),\n",
              " ('the', 'discharge', 'of'),\n",
              " ('discharge', 'of', 'his'),\n",
              " ('of', 'his', 'ordinary'),\n",
              " ('his', 'ordinary', 'duties'),\n",
              " ('ordinary', 'duties', '.'),\n",
              " ('duties', '.', 'had'),\n",
              " ('.', 'had', 'he'),\n",
              " ('had', 'he', 'married'),\n",
              " ('he', 'married', 'a'),\n",
              " ('married', 'a', 'more'),\n",
              " ('a', 'more', 'amiable'),\n",
              " ('more', 'amiable', 'woman'),\n",
              " ('amiable', 'woman', ','),\n",
              " ('woman', ',', 'he'),\n",
              " (',', 'he', 'might'),\n",
              " ('he', 'might', 'have'),\n",
              " ('might', 'have', 'been'),\n",
              " ('have', 'been', 'made'),\n",
              " ('been', 'made', 'still'),\n",
              " ('made', 'still', 'more'),\n",
              " ('still', 'more', 'respectable'),\n",
              " ('more', 'respectable', 'than'),\n",
              " ('respectable', 'than', 'he'),\n",
              " ('than', 'he', 'was'),\n",
              " ('he', 'was', ':'),\n",
              " ('was', ':', '--'),\n",
              " (':', '--', 'he'),\n",
              " ('--', 'he', 'might'),\n",
              " ('he', 'might', 'even'),\n",
              " ('might', 'even', 'have'),\n",
              " ('even', 'have', 'been'),\n",
              " ('have', 'been', 'made'),\n",
              " ('been', 'made', 'amiable'),\n",
              " ('made', 'amiable', 'himself'),\n",
              " ('amiable', 'himself', ';'),\n",
              " ('himself', ';', 'for'),\n",
              " (';', 'for', 'he'),\n",
              " ('for', 'he', 'was'),\n",
              " ('he', 'was', 'very'),\n",
              " ('was', 'very', 'young'),\n",
              " ('very', 'young', 'when'),\n",
              " ('young', 'when', 'he'),\n",
              " ('when', 'he', 'married'),\n",
              " ('he', 'married', ','),\n",
              " ('married', ',', 'and'),\n",
              " (',', 'and', 'very'),\n",
              " ('and', 'very', 'fond'),\n",
              " ('very', 'fond', 'of'),\n",
              " ...]"
            ]
          },
          "metadata": {},
          "execution_count": 8
        }
      ]
    },
    {
      "cell_type": "markdown",
      "source": [
        "### Test the Results"
      ],
      "metadata": {
        "id": "y9xSv4lVb0FF"
      }
    },
    {
      "cell_type": "code",
      "source": [
        "# Example usage of the prediction function\n",
        "print(\"Next word:\", predict_next_word('was', 'not'))"
      ],
      "metadata": {
        "id": "uuylj7PCafnV",
        "outputId": "18fe4d54-7af6-4892-8676-d80f4d2194ef",
        "colab": {
          "base_uri": "https://localhost:8080/"
        }
      },
      "execution_count": 9,
      "outputs": [
        {
          "output_type": "stream",
          "name": "stdout",
          "text": [
            "Next word: in\n"
          ]
        }
      ]
    },
    {
      "cell_type": "code",
      "source": [
        "# Example usage of the prediction function\n",
        "print(\"Next word:\", predict_next_word('was', 'the'))"
      ],
      "metadata": {
        "id": "sKGn6lXQxRDW",
        "outputId": "3f420825-29af-4b91-f778-9229faeb3fc9",
        "colab": {
          "base_uri": "https://localhost:8080/"
        }
      },
      "execution_count": 11,
      "outputs": [
        {
          "output_type": "stream",
          "name": "stdout",
          "text": [
            "Next word: more\n"
          ]
        }
      ]
    },
    {
      "cell_type": "code",
      "source": [
        "# Example usage of the text generation function\n",
        "start_words = (\"was\", \"not\")\n",
        "generate_text(start_words, 100)"
      ],
      "metadata": {
        "id": "94V121kEaNiF",
        "outputId": "e7d89a5d-8280-4c23-e4e6-ad92bb307964",
        "colab": {
          "base_uri": "https://localhost:8080/",
          "height": 52
        }
      },
      "execution_count": 13,
      "outputs": [
        {
          "output_type": "execute_result",
          "data": {
            "text/plain": [
              "\"was not in the world . '' `` i am sure i would not be in town , and the two miss steeles , as she had been in the world . '' `` i am sure i would not be in town , and the two miss steeles , as she had been in the world . '' `` i am sure i would not be in town , and the two miss steeles , as she had been in the world . '' `` i am sure i would not be in town , and the two miss steeles ,\""
            ],
            "application/vnd.google.colaboratory.intrinsic+json": {
              "type": "string"
            }
          },
          "metadata": {},
          "execution_count": 13
        }
      ]
    },
    {
      "cell_type": "code",
      "source": [
        "# Example usage of the generation function with 2 grams\n",
        "start_words_1 = ('the','more') #This tuple specifies the initial words or tokens that the generated text should start with.\n",
        "generate_text(start_words_1, 100) # This function call is probably intended to generate text starting with the words \"the more\" and continuing until it has produced a total of 100 words."
      ],
      "metadata": {
        "id": "LMIT66M8xToK",
        "outputId": "cc280516-d7c2-4a5b-bc9c-6ba490e40b38",
        "colab": {
          "base_uri": "https://localhost:8080/",
          "height": 52
        }
      },
      "execution_count": 15,
      "outputs": [
        {
          "output_type": "execute_result",
          "data": {
            "text/plain": [
              "\"the more easily reconciled , by the entrance of the house , and the two miss steeles , as she had been in the world . '' `` i am sure i would not be in town , and the two miss steeles , as she had been in the world . '' `` i am sure i would not be in town , and the two miss steeles , as she had been in the world . '' `` i am sure i would not be in town , and the two miss steeles , as she had been in the\""
            ],
            "application/vnd.google.colaboratory.intrinsic+json": {
              "type": "string"
            }
          },
          "metadata": {},
          "execution_count": 15
        }
      ]
    },
    {
      "cell_type": "markdown",
      "source": [
        "### Improving Text Generation\n",
        "The approach of  picking the most frequent next word in text generation results in text repetition and uninteresting text.\n",
        "\n",
        "We will modify the `predict_next_word` function to choose the next word based on a probability distribution rather than just picking the most frequent next word. This way, the selection will still favor more likely words but won't always select the same word every time.\n"
      ],
      "metadata": {
        "id": "qUmqOYkycYnc"
      }
    },
    {
      "cell_type": "code",
      "source": [
        "import random\n",
        "\n",
        "# Function to predict the next word with randomness\n",
        "def predict_next_word(w1, w2):\n",
        "    if (w1, w2) in trigram_freq:\n",
        "        next_words = list(trigram_freq[(w1, w2)].elements())\n",
        "        return random.choice(next_words) if next_words else None\n",
        "    else:\n",
        "        return None\n",
        "\n",
        "# Function to generate text with randomness\n",
        "def generate_text(start_words, num_words):\n",
        "    if len(start_words) < 2:\n",
        "        return \"Please provide at least two starting words.\"\n",
        "\n",
        "    generated_words = list(start_words)\n",
        "    for _ in range(num_words):\n",
        "        next_word = predict_next_word(generated_words[-2], generated_words[-1])\n",
        "        if next_word is None:\n",
        "            break  # Break if no next word is found\n",
        "        generated_words.append(next_word)\n",
        "\n",
        "    return ' '.join(generated_words)\n",
        "\n"
      ],
      "metadata": {
        "id": "1njN8TtucZMc"
      },
      "execution_count": 16,
      "outputs": []
    },
    {
      "cell_type": "code",
      "source": [
        "# Example usage of the text generation function\n",
        "start_words = (\"it\", \"was\")\n",
        "generate_text(start_words, 500)"
      ],
      "metadata": {
        "id": "vJRIisIOdMZM",
        "outputId": "85fdb54f-e114-4b02-f241-42d2886934eb",
        "colab": {
          "base_uri": "https://localhost:8080/",
          "height": 104
        }
      },
      "execution_count": 17,
      "outputs": [
        {
          "output_type": "execute_result",
          "data": {
            "text/plain": [
              "\"it was rather his favourite pointer at her own previous alarm ; i am sure , though when she advised her daughter ; and , therefore , to settle on -- and to persuade her if i had bestowed on me by talking of edward , though she often threw out expressions of pity for her rug , to come . `` i never happened to be a gentleman , it shall not have believed such a secret acknowledgment of his love used so scornfully ! for then his brother , your compassion would make you ? -- was repeated by marianne 's complaint more serious than elinor 's hands . '' poor elinor ! how could you suppose so ? you will find none in those who had seen nothing of him -- yet she felt almost as if she did not hold ; but a very natural kind of tenderness to lead the fancy astray . in one of the quarter of an hour or two afterwards , '' said elinor ; `` what , '' is mrs. smith , was an unaccountable business . two thousand pounds , and it will be as dashing and expensive without a settled habitation of her story , to fanny , and no niggardly proportion was now searched by madam with the fortitude of an illness destroys the bloom for ever on his so sudden appearance . she began it , for although scarcely settled in a manner so frank , to which it was a great deal to say something more of it . i should guess so , i dare say it is a very good character , without taking that liberty , the personal sympathy of her gowns altogether with better judgment than to pass my time that i was afraid mr. ferrars , with not less watchful of what passed , the colonel and miss steele could not recollect ; but now you see -- that must be subject to all the attention is due to her house . one day to day , or some failing indulged . every thing was to cure a disappointment hardly less anxious to be so good as to draw the two grandmothers , with a tenderness , pity my situation as it was ready to assist me . the real state of things between willoughby and herself , was begged of me with , it has been entirely brought on . `` i wish , to see edward himself , if , now , and his disposition made him sport with your sister-in-law , mrs. dashwood began shortly to give way in a firm , though she could have done with you ; and therefore it was become of him , with rather an attempt to deny , and eager at all altered . '' `` long a time i was glad to meet you with my cold beef at marlborough ! '' `` as vile a spot which they have !\""
            ],
            "application/vnd.google.colaboratory.intrinsic+json": {
              "type": "string"
            }
          },
          "metadata": {},
          "execution_count": 17
        }
      ]
    },
    {
      "cell_type": "markdown",
      "source": [
        "# Embeddings\n",
        "We will use the `gensim` library, which provides straightforward implementations of `word2vec`, to create word embeddings using the CBOW model."
      ],
      "metadata": {
        "id": "WcvwuYiDf-SE"
      }
    },
    {
      "cell_type": "code",
      "source": [
        "from gensim.models import Word2Vec\n",
        "from nltk.tokenize import word_tokenize\n",
        "import nltk\n",
        "nltk.download('punkt')\n",
        "\n",
        "# Tokenize and convert to lower case\n",
        "tokens = word_tokenize(sas.lower())\n",
        "\n",
        "# Organize the tokens into sentences, Word2Vec needs data in format of list of lists of tokens\n",
        "sentences = [tokens[i:i+100] for i in range(0, len(tokens), 100)]\n"
      ],
      "metadata": {
        "id": "52rocFVboYXz",
        "outputId": "9c10b491-2410-4cb4-90d5-44b2d6d711c6",
        "colab": {
          "base_uri": "https://localhost:8080/"
        }
      },
      "execution_count": 18,
      "outputs": [
        {
          "output_type": "stream",
          "name": "stderr",
          "text": [
            "[nltk_data] Downloading package punkt to /root/nltk_data...\n",
            "[nltk_data]   Package punkt is already up-to-date!\n"
          ]
        }
      ]
    },
    {
      "cell_type": "code",
      "source": [
        "# Train the CBOW model\n",
        "model = Word2Vec(sentences, vector_size=100, window=5, min_count=1, sg=0)  # sg=0 specifies CBOW\n"
      ],
      "metadata": {
        "id": "HO3VOV1Coa4i"
      },
      "execution_count": 19,
      "outputs": []
    },
    {
      "cell_type": "markdown",
      "source": [
        "## Find 'Semantically Close' Words\n",
        "\n",
        "The `most_simila`r method is a feature of Gensim's Word2Vec implementation and is commonly used in natural language processing to find words that are most similar to a given word or set of words based on word embeddings. The method essentially calculates the cosine similarity between the specified word(s) and all other words in the model's vocabulary.\n",
        "\n",
        "Understanding Cosine Similarity\n",
        "\n",
        "Cosine similarity measures the cosine of the angle between two vectors. In the context of word embeddings, it is a measure of the similarity between two words. The cosine similarity between two vectors\n",
        "$u$ and $v$ is defined as:\n",
        "\n",
        "\\\n",
        "$$\n",
        "similarity = \\cos(\\theta) = \\frac{u \\cdot v}{\\|u\\| \\|v\\|}\n",
        "$$\n",
        "\n",
        "\n",
        "where $u \\cdot v$  is the dot product of the vectors and $\\|u\\|$  and $\\|v\\|$ are the norms (or magnitudes) of the vectors.\n",
        "\n",
        "\n",
        "Steps Performed by `most_similar`\n",
        "\n",
        "* Vector Retrieval: First, the method retrieves the vector(s) for the input word(s). If multiple words are provided, it typically averages their vectors to create a single query vector.\n",
        "\n",
        "* Similarity Calculation: The method then calculates the cosine similarity between this query vector and all other vectors in the trained model (i.e., the embeddings of all words in the vocabulary).\n",
        "\n",
        "* Sorting: The cosine similarities are sorted in descending order.\n",
        "\n",
        "* Top N Results: Finally, the method returns the top N words with the highest cosine similarities.\n",
        "\n",
        "Optional Parameters\n",
        "\n",
        "* Positive and Negative Words: The method allows for both positive and negative words. Positive words contribute positively towards the similarity, while negative words contribute negatively. This is useful for analogy tasks (e.g., \"king\" - \"man\" + \"woman\" = \"queen\").\n",
        "\n",
        "* Top N: You can specify how many of the most similar words to retrieve."
      ],
      "metadata": {
        "id": "PqNj34cM1oAx"
      }
    },
    {
      "cell_type": "code",
      "source": [
        "def find_closest_words(input_word, topn=10):\n",
        "    if input_word in model.wv.key_to_index:\n",
        "        # Find the topn most similar words\n",
        "        similar_words = model.wv.most_similar(positive=[input_word], topn=topn)\n",
        "        return similar_words  # This returns a list of tuples (word, similarity)\n",
        "    else:\n",
        "        return f\"The word '{input_word}' is not in the vocabulary.\""
      ],
      "metadata": {
        "id": "x1U7ihQ6pR_h"
      },
      "execution_count": 20,
      "outputs": []
    },
    {
      "cell_type": "code",
      "source": [
        "# Example usage of the function\n",
        "find_closest_words(\"sense\", 10)"
      ],
      "metadata": {
        "id": "CSxmA2BL1vZv",
        "outputId": "b830546a-e79c-49f1-f81a-473dcd644362",
        "colab": {
          "base_uri": "https://localhost:8080/"
        }
      },
      "execution_count": 26,
      "outputs": [
        {
          "output_type": "execute_result",
          "data": {
            "text/plain": [
              "[('country', 0.998769223690033),\n",
              " ('up', 0.9987550377845764),\n",
              " ('against', 0.9987512230873108),\n",
              " ('once', 0.9987238049507141),\n",
              " ('old', 0.9986152052879333),\n",
              " ('another', 0.9985466003417969),\n",
              " ('circumstances', 0.9985398650169373),\n",
              " ('four', 0.9985395669937134),\n",
              " ('family', 0.9985241293907166),\n",
              " ('open', 0.9985080361366272)]"
            ]
          },
          "metadata": {},
          "execution_count": 26
        }
      ]
    },
    {
      "cell_type": "code",
      "source": [
        "# Example usage of the function\n",
        "find_closest_words(\"family\", 10)"
      ],
      "metadata": {
        "id": "vYDsCi1M6QIZ",
        "outputId": "05601633-2bac-4578-cc6a-6011e9d2e429",
        "colab": {
          "base_uri": "https://localhost:8080/"
        }
      },
      "execution_count": 22,
      "outputs": [
        {
          "output_type": "execute_result",
          "data": {
            "text/plain": [
              "[('most', 0.9994108080863953),\n",
              " ('those', 0.9993615746498108),\n",
              " ('almost', 0.9993381500244141),\n",
              " ('place', 0.9993045926094055),\n",
              " ('against', 0.9993019700050354),\n",
              " ('barton', 0.9992648959159851),\n",
              " ('general', 0.9992620348930359),\n",
              " ('having', 0.9992536306381226),\n",
              " ('towards', 0.9992518424987793),\n",
              " ('under', 0.9992396235466003)]"
            ]
          },
          "metadata": {},
          "execution_count": 22
        }
      ]
    },
    {
      "cell_type": "markdown",
      "source": [
        "### 2-D Plot\n",
        "\n",
        "Steps:\n",
        "* Retrieve Closest Words: Get the 20 closest words to the input word using the most_similar method.\n",
        "\n",
        "* Extract Embeddings: Extract the embedding vectors for these words.\n",
        "\n",
        "* Apply t-SNE: Use t-SNE to reduce the dimensionality of these vectors to two dimensions. Dimensionality reduction techniques such as t-SNE (t-Distributed Stochastic Neighbor Embedding) or PCA (Principal Component Analysis) can be used. We will use t-SNE here because it is particularly well-suited for visualizing high-dimensional data in two or three dimensions.\n",
        "\n",
        "* Plotting: Plot the resulting two-dimensional points using matplotlib."
      ],
      "metadata": {
        "id": "4E1icxV912XS"
      }
    },
    {
      "cell_type": "code",
      "source": [
        "import matplotlib.pyplot as plt\n",
        "from sklearn.manifold import TSNE\n",
        "import numpy as np\n",
        "\n",
        "def plot_closest_words(model, input_word, topn=20):\n",
        "    if input_word not in model.wv.key_to_index:\n",
        "        print(f\"The word '{input_word}' is not in the vocabulary.\")\n",
        "        return\n",
        "\n",
        "    # Get the closest words specified by 'topn'\n",
        "    closest_words = model.wv.most_similar(positive=[input_word], topn=topn)\n",
        "    words = [word for word, _ in closest_words]\n",
        "    words.append(input_word)  # Also include the input word\n",
        "\n",
        "    # Extract the corresponding vectors\n",
        "    word_vectors = np.array([model.wv[word] for word in words])\n",
        "\n",
        "    # Use t-SNE to reduce dimensionality\n",
        "    perplexity_value = min(30, len(words) - 1)  # Ensure perplexity is less than the number of samples\n",
        "    tsne = TSNE(n_components=2, random_state=42, perplexity=perplexity_value)\n",
        "    Y = tsne.fit_transform(word_vectors)\n",
        "\n",
        "    # Plotting\n",
        "    plt.figure(figsize=(12, 12))\n",
        "    plt.scatter(Y[:, 0], Y[:, 1], color='blue')\n",
        "\n",
        "    for label, x, y in zip(words, Y[:, 0], Y[:, 1]):\n",
        "        plt.annotate(label,\n",
        "                     xy=(x, y),\n",
        "                     xytext=(5, -5),\n",
        "                     textcoords='offset points',\n",
        "                     ha='right',\n",
        "                     va='bottom')\n",
        "\n",
        "    plt.show()\n"
      ],
      "metadata": {
        "id": "OPqq2c96rfM5"
      },
      "execution_count": 27,
      "outputs": []
    },
    {
      "cell_type": "code",
      "source": [
        "# Example usage of the function\n",
        "plot_closest_words(model, \"life\", topn=20)"
      ],
      "metadata": {
        "id": "LBW9gETUriyZ",
        "outputId": "544509c3-ef14-4b51-de1c-c716dbddf44f",
        "colab": {
          "base_uri": "https://localhost:8080/",
          "height": 984
        }
      },
      "execution_count": 31,
      "outputs": [
        {
          "output_type": "display_data",
          "data": {
            "text/plain": [
              "<Figure size 1200x1200 with 1 Axes>"
            ],
            "image/png": "[encoded data removed]"
          },
          "metadata": {}
        }
      ]
    },
    {
      "cell_type": "markdown",
      "source": [
        "###3-D Plot"
      ],
      "metadata": {
        "id": "VDjJYbeA17_w"
      }
    },
    {
      "cell_type": "code",
      "source": [
        "import matplotlib.pyplot as plt\n",
        "from mpl_toolkits.mplot3d import Axes3D  # This is needed for 3D plotting\n",
        "from sklearn.manifold import TSNE\n",
        "import numpy as np\n",
        "\n",
        "def plot_closest_words_3d(model, input_word, topn=100):\n",
        "    if input_word not in model.wv.key_to_index:\n",
        "        print(f\"The word '{input_word}' is not in the vocabulary.\")\n",
        "        return\n",
        "\n",
        "    # Get the closest words specified by 'topn'\n",
        "    closest_words = model.wv.most_similar(positive=[input_word], topn=topn)\n",
        "    words = [word for word, _ in closest_words]\n",
        "    words.append(input_word)  # Also include the input word\n",
        "\n",
        "    # Extract the corresponding vectors\n",
        "    word_vectors = np.array([model.wv[word] for word in words])\n",
        "\n",
        "    # Use t-SNE to reduce dimensionality to 3D\n",
        "    perplexity_value = min(30, len(words) - 1)  # Ensure perplexity is less than the number of samples\n",
        "    tsne = TSNE(n_components=3, random_state=42, perplexity=perplexity_value)\n",
        "    Y = tsne.fit_transform(word_vectors)\n",
        "\n",
        "    # Plotting in 3D\n",
        "    fig = plt.figure(figsize=(12, 12))\n",
        "    ax = fig.add_subplot(111, projection='3d')\n",
        "    ax.scatter(Y[:, 0], Y[:, 1], Y[:, 2], color='blue')\n",
        "\n",
        "    for label, x, y, z in zip(words, Y[:, 0], Y[:, 1], Y[:, 2]):\n",
        "        ax.text(x, y, z, label, color='red', fontsize=9)\n",
        "\n",
        "    ax.set_xlabel('t-SNE Axis 1')\n",
        "    ax.set_ylabel('t-SNE Axis 2')\n",
        "    ax.set_zlabel('t-SNE Axis 3')\n",
        "    plt.show()"
      ],
      "metadata": {
        "id": "ADWxtuZVrqcZ"
      },
      "execution_count": 29,
      "outputs": []
    },
    {
      "cell_type": "code",
      "source": [
        "# Example usage of the function\n",
        "plot_closest_words_3d(model, \"present\", topn=20)"
      ],
      "metadata": {
        "id": "P5V0pFd6sDDZ",
        "outputId": "f4b31bcb-71b7-47d5-bca3-ea5f79d8455f",
        "colab": {
          "base_uri": "https://localhost:8080/",
          "height": 961
        }
      },
      "execution_count": 30,
      "outputs": [
        {
          "output_type": "display_data",
          "data": {
            "text/plain": [
              "<Figure size 1200x1200 with 1 Axes>"
            ],
            "image/png": "[encoded data removed]"
          },
          "metadata": {}
        }
      ]
    },
    {
      "cell_type": "markdown",
      "source": [
        "#Next Word Prediction with Embeddings"
      ],
      "metadata": {
        "id": "wPkTTNte1McQ"
      }
    },
    {
      "cell_type": "markdown",
      "source": [
        "As before, we will attempt to use the last two words to predict the next word. But this time we will use the embeddings of the last two words."
      ],
      "metadata": {
        "id": "bbFvk_8Oq0cn"
      }
    },
    {
      "cell_type": "markdown",
      "source": [
        "##Training Data\n",
        "Because embeddings are numeric vectors, it allows us to build a prediction model for the next word prediction. We need to prepare the training data for the prediction model. This involves:\n",
        "\n",
        "1. Creating sequences of embeddings for pairs of words to use as inputs.\n",
        "2. Using the embedding of the word that immediately follows each pair as the target output."
      ],
      "metadata": {
        "id": "GzMKS5PB99w_"
      }
    },
    {
      "cell_type": "code",
      "source": [
        "import numpy as np\n",
        "from tensorflow.keras.models import Sequential\n",
        "from tensorflow.keras.layers import Dense\n",
        "\n",
        "# Create a dictionary to map words to their embeddings\n",
        "word_vectors = {word: model.wv[word] for word in model.wv.index_to_key}\n",
        "\n",
        "# Preparing the data for next word prediction\n",
        "X = []\n",
        "y = []\n",
        "\n",
        "for sentence in sentences:\n",
        "    for i in range(len(sentence) - 2):\n",
        "        if sentence[i] in word_vectors and sentence[i+1] in word_vectors and sentence[i+2] in word_vectors:\n",
        "            first_word_vec = word_vectors[sentence[i]]\n",
        "            second_word_vec = word_vectors[sentence[i+1]]\n",
        "            next_word_vec = word_vectors[sentence[i+2]]\n",
        "            X.append(np.concatenate([first_word_vec, second_word_vec]))\n",
        "            y.append(next_word_vec)\n",
        "\n",
        "X = np.array(X)\n",
        "y = np.array(y)\n"
      ],
      "metadata": {
        "id": "tqUnkhWQoT5C"
      },
      "execution_count": 32,
      "outputs": []
    },
    {
      "cell_type": "markdown",
      "source": [
        "##Neural Network Design"
      ],
      "metadata": {
        "id": "Ej8dLfrV9o9Z"
      }
    },
    {
      "cell_type": "markdown",
      "source": [
        "We will use the following neural network structure:\n",
        "1. Input Layer: The input dimension will be twice the `vector_size` of the embeddings (since we concatenate two embeddings).\n",
        "2. Hidden Layers: One or more dense layers with activation functions like ReLU.\n",
        "3. Output Layer: The output layer should have as many units as the `vector_size` of the embeddings and could use a linear activation function.\n",
        "4. Train the Model: The model learns to predict the vector of the next word directly."
      ],
      "metadata": {
        "id": "yceSOQe3rETC"
      }
    },
    {
      "cell_type": "code",
      "source": [
        "# Neural Network Model\n",
        "model = Sequential([\n",
        "    Dense(128, activation='relu', input_dim=200),  # Assuming vector_size=100\n",
        "    Dense(100, activation='linear')  # Output dimension same as vector_size\n",
        "])\n",
        "\n",
        "model.compile(optimizer='adam', loss='mse')\n",
        "model.fit(X, y, epochs=5, batch_size=32)"
      ],
      "metadata": {
        "id": "k6poWgkCreRY",
        "outputId": "6f5ac4e6-ee1e-4b89-f002-1ce4587fbc34",
        "colab": {
          "base_uri": "https://localhost:8080/"
        }
      },
      "execution_count": 33,
      "outputs": [
        {
          "output_type": "stream",
          "name": "stdout",
          "text": [
            "Epoch 1/5\n",
            "4330/4330 [==============================] - 12s 3ms/step - loss: 0.0672\n",
            "Epoch 2/5\n",
            "4330/4330 [==============================] - 11s 3ms/step - loss: 0.0634\n",
            "Epoch 3/5\n",
            "4330/4330 [==============================] - 11s 2ms/step - loss: 0.0628\n",
            "Epoch 4/5\n",
            "4330/4330 [==============================] - 11s 2ms/step - loss: 0.0624\n",
            "Epoch 5/5\n",
            "4330/4330 [==============================] - 10s 2ms/step - loss: 0.0622\n"
          ]
        },
        {
          "output_type": "execute_result",
          "data": {
            "text/plain": [
              "<keras.src.callbacks.History at 0x78c033bc3ac0>"
            ]
          },
          "metadata": {},
          "execution_count": 33
        }
      ]
    },
    {
      "cell_type": "markdown",
      "source": [
        "##Function to Find Closest Word\n",
        "\n",
        "We will create a function to find the closest word in the embedding space. This function will compare the predicted embedding to all embeddings in  trained Word2Vec model,  using cosine similarity to determine the closest word."
      ],
      "metadata": {
        "id": "b5ld9tAerl1H"
      }
    },
    {
      "cell_type": "code",
      "source": [
        "from scipy.spatial import distance\n",
        "\n",
        "def closest_word(predicted_embedding, word_vectors):\n",
        "    min_dist = float('inf')\n",
        "    closest_word = None\n",
        "    for word, embedding in word_vectors.items():\n",
        "        sim = distance.cosine(predicted_embedding, embedding)\n",
        "        if sim < min_dist:\n",
        "            min_dist = sim\n",
        "            closest_word = word\n",
        "    return closest_word\n"
      ],
      "metadata": {
        "id": "gRla9f-NqDhh"
      },
      "execution_count": 34,
      "outputs": []
    },
    {
      "cell_type": "markdown",
      "source": [
        "##Prediction Function\n",
        "We now create a function that takes the last two words, predicts the next word's embedding using the trained model, and then uses the function above to find the closest actual word."
      ],
      "metadata": {
        "id": "PKvPOfQ4r9-K"
      }
    },
    {
      "cell_type": "code",
      "source": [
        "def predict_next_word(word1, word2, model, word_vectors):\n",
        "    if word1 not in word_vectors or word2 not in word_vectors:\n",
        "        return \"One of the words is not in the vocabulary.\"\n",
        "\n",
        "    # Retrieve the embeddings from word_vectors\n",
        "    first_word_vec = word_vectors[word1]\n",
        "    second_word_vec = word_vectors[word2]\n",
        "\n",
        "    # Combine embeddings and reshape for the model\n",
        "    combined_embeddings = np.concatenate([first_word_vec, second_word_vec]).reshape(1, -1)\n",
        "\n",
        "    # Predict the next word's embedding\n",
        "    predicted_embedding = model.predict(combined_embeddings)\n",
        "\n",
        "    # Find the closest word in the embedding space\n",
        "    next_word = closest_word(predicted_embedding.flatten(), word_vectors)\n",
        "    return next_word\n"
      ],
      "metadata": {
        "id": "RQAbW0H_pgyp"
      },
      "execution_count": 35,
      "outputs": []
    },
    {
      "cell_type": "markdown",
      "source": [
        "##Predict the Next Word"
      ],
      "metadata": {
        "id": "UMhPKSdF6MWS"
      }
    },
    {
      "cell_type": "code",
      "source": [
        "# Example words\n",
        "word1 = \"he\"\n",
        "word2 = \"was\"\n",
        "\n",
        "# Assuming 'model' is your trained Keras model and 'word_vectors' is a dictionary of word embeddings\n",
        "predicted_word = predict_next_word(word1, word2, model, word_vectors)\n",
        "print(\"Predicted next word:\", predicted_word)\n"
      ],
      "metadata": {
        "id": "1ziw7_7tpmBp",
        "outputId": "acd4c338-ae99-4d1b-eda3-3e3385a53c99",
        "colab": {
          "base_uri": "https://localhost:8080/"
        }
      },
      "execution_count": 36,
      "outputs": [
        {
          "output_type": "stream",
          "name": "stdout",
          "text": [
            "1/1 [==============================] - 0s 93ms/step\n",
            "Predicted next word: little\n"
          ]
        }
      ]
    },
    {
      "cell_type": "markdown",
      "source": [
        "# Text Generation (Deterministic)"
      ],
      "metadata": {
        "id": "0k1qwrNc6fwx"
      }
    },
    {
      "cell_type": "code",
      "source": [
        "def generate_text(start_words, num_words, model, word_vectors):\n",
        "    generated_words = start_words.split()\n",
        "    for _ in range(num_words):\n",
        "        if len(generated_words) < 2:\n",
        "            break  # If there aren't enough words to predict the next one, stop.\n",
        "        # Extract the last two words\n",
        "        last_two_words = generated_words[-2:]\n",
        "        # Ensure that there are exactly two words passed\n",
        "        next_word = predict_next_word(last_two_words[0], last_two_words[1], model, word_vectors)\n",
        "        generated_words.append(next_word)\n",
        "    return ' '.join(generated_words)\n"
      ],
      "metadata": {
        "id": "d-eWbNgdojja"
      },
      "execution_count": 37,
      "outputs": []
    },
    {
      "cell_type": "code",
      "source": [
        "start_words = \"sense and\"\n",
        "num_words = 50\n",
        "# Make sure your 'model' and 'word_vectors' are defined and loaded appropriately.\n",
        "generated_text = generate_text(start_words, num_words, model, word_vectors)"
      ],
      "metadata": {
        "id": "8juKgp471Ef4",
        "outputId": "f2c36ed8-6e63-49b5-9d8d-fb897baf66f8",
        "colab": {
          "base_uri": "https://localhost:8080/"
        }
      },
      "execution_count": 38,
      "outputs": [
        {
          "output_type": "stream",
          "name": "stdout",
          "text": [
            "1/1 [==============================] - 0s 36ms/step\n",
            "1/1 [==============================] - 0s 36ms/step\n",
            "1/1 [==============================] - 0s 32ms/step\n",
            "1/1 [==============================] - 0s 22ms/step\n",
            "1/1 [==============================] - 0s 21ms/step\n",
            "1/1 [==============================] - 0s 24ms/step\n",
            "1/1 [==============================] - 0s 21ms/step\n",
            "1/1 [==============================] - 0s 23ms/step\n",
            "1/1 [==============================] - 0s 21ms/step\n",
            "1/1 [==============================] - 0s 26ms/step\n",
            "1/1 [==============================] - 0s 22ms/step\n",
            "1/1 [==============================] - 0s 25ms/step\n",
            "1/1 [==============================] - 0s 21ms/step\n",
            "1/1 [==============================] - 0s 21ms/step\n",
            "1/1 [==============================] - 0s 22ms/step\n",
            "1/1 [==============================] - 0s 30ms/step\n",
            "1/1 [==============================] - 0s 21ms/step\n",
            "1/1 [==============================] - 0s 24ms/step\n",
            "1/1 [==============================] - 0s 22ms/step\n",
            "1/1 [==============================] - 0s 21ms/step\n",
            "1/1 [==============================] - 0s 24ms/step\n",
            "1/1 [==============================] - 0s 27ms/step\n",
            "1/1 [==============================] - 0s 24ms/step\n",
            "1/1 [==============================] - 0s 22ms/step\n",
            "1/1 [==============================] - 0s 32ms/step\n",
            "1/1 [==============================] - 0s 24ms/step\n",
            "1/1 [==============================] - 0s 23ms/step\n",
            "1/1 [==============================] - 0s 23ms/step\n",
            "1/1 [==============================] - 0s 34ms/step\n",
            "1/1 [==============================] - 0s 32ms/step\n",
            "1/1 [==============================] - 0s 36ms/step\n",
            "1/1 [==============================] - 0s 41ms/step\n",
            "1/1 [==============================] - 0s 40ms/step\n",
            "1/1 [==============================] - 0s 21ms/step\n",
            "1/1 [==============================] - 0s 21ms/step\n",
            "1/1 [==============================] - 0s 21ms/step\n",
            "1/1 [==============================] - 0s 23ms/step\n",
            "1/1 [==============================] - 0s 22ms/step\n",
            "1/1 [==============================] - 0s 32ms/step\n",
            "1/1 [==============================] - 0s 21ms/step\n",
            "1/1 [==============================] - 0s 23ms/step\n",
            "1/1 [==============================] - 0s 22ms/step\n",
            "1/1 [==============================] - 0s 22ms/step\n",
            "1/1 [==============================] - 0s 24ms/step\n",
            "1/1 [==============================] - 0s 25ms/step\n",
            "1/1 [==============================] - 0s 22ms/step\n",
            "1/1 [==============================] - 0s 27ms/step\n",
            "1/1 [==============================] - 0s 24ms/step\n",
            "1/1 [==============================] - 0s 22ms/step\n",
            "1/1 [==============================] - 0s 23ms/step\n"
          ]
        }
      ]
    },
    {
      "cell_type": "code",
      "source": [
        "generated_text"
      ],
      "metadata": {
        "id": "kKeaRXDh60IN",
        "outputId": "bd55af26-e875-4152-adf4-6167adae2efb",
        "colab": {
          "base_uri": "https://localhost:8080/",
          "height": 52
        }
      },
      "execution_count": 39,
      "outputs": [
        {
          "output_type": "execute_result",
          "data": {
            "text/plain": [
              "'sense and our looked again again again again again again again again again again again again again again again again again again again again again again again again again again again again again again again again again again again again again again again again again again again again again again again again'"
            ],
            "application/vnd.google.colaboratory.intrinsic+json": {
              "type": "string"
            }
          },
          "metadata": {},
          "execution_count": 39
        }
      ]
    },
    {
      "cell_type": "markdown",
      "source": [
        "#Text Generation (Stochastic)"
      ],
      "metadata": {
        "id": "_PPVsiZ_636t"
      }
    },
    {
      "cell_type": "markdown",
      "source": [
        "To introduce randomness into the text generation process and avoid generating repetitive text, we will modify how we select the next word after generating its predicted embedding. Rather than always choosing the closest word in terms of embedding distance, will select from the top\n",
        "𝑁 closest words, weighted by their similarity to the predicted embedding. This approach can lead to more varied and interesting text."
      ],
      "metadata": {
        "id": "vQ4Itrp33lmo"
      }
    },
    {
      "cell_type": "code",
      "source": [
        "import random\n",
        "\n",
        "def predict_next_word(word1, word2, model, word_vectors, top_n=20):\n",
        "    if word1 not in word_vectors or word2 not in word_vectors:\n",
        "        return \"One of the words is not in the vocabulary.\"\n",
        "\n",
        "    first_word_vec = word_vectors[word1]\n",
        "    second_word_vec = word_vectors[word2]\n",
        "    combined_embeddings = np.concatenate([first_word_vec, second_word_vec]).reshape(1, -1)\n",
        "    predicted_embedding = model.predict(combined_embeddings).flatten()\n",
        "\n",
        "    # Get the top N closest words\n",
        "    top_words, similarities = closest_words(predicted_embedding, word_vectors, top_n)\n",
        "\n",
        "    # Convert similarities to positive as distances are negative, then to probabilities\n",
        "    probabilities = np.exp(-similarities)\n",
        "    probabilities /= probabilities.sum()\n",
        "\n",
        "    # Randomly select a word based on computed probabilities\n",
        "    next_word = np.random.choice(top_words, p=probabilities)\n",
        "    return next_word\n"
      ],
      "metadata": {
        "id": "SC-FDyhu1obA"
      },
      "execution_count": 40,
      "outputs": []
    },
    {
      "cell_type": "code",
      "source": [
        "from scipy.spatial import distance\n",
        "import numpy as np\n",
        "\n",
        "def closest_words(predicted_embedding, word_vectors, top_n=20):\n",
        "    # Calculate distances and return the top N closest words\n",
        "    all_words = list(word_vectors.keys())\n",
        "    all_embeddings = np.array([word_vectors[word] for word in all_words])\n",
        "    distances = np.array([distance.cosine(predicted_embedding, embedding) for embedding in all_embeddings])\n",
        "    closest_indices = np.argsort(distances)[:top_n]\n",
        "    closest_words = [all_words[idx] for idx in closest_indices]\n",
        "    return closest_words, distances[closest_indices]\n"
      ],
      "metadata": {
        "id": "owTV-ti11lu2"
      },
      "execution_count": 41,
      "outputs": []
    },
    {
      "cell_type": "code",
      "source": [
        "def generate_text(start_words, num_words, model, word_vectors, top_n=20):\n",
        "    generated_words = start_words.split()\n",
        "    for _ in range(num_words):\n",
        "        if len(generated_words) < 2:\n",
        "            break\n",
        "        last_two_words = generated_words[-2:]\n",
        "        next_word = predict_next_word(last_two_words[0], last_two_words[1], model, word_vectors, top_n)\n",
        "        generated_words.append(next_word)\n",
        "    return ' '.join(generated_words)\n"
      ],
      "metadata": {
        "id": "dJ4oCz5M1oYO"
      },
      "execution_count": 42,
      "outputs": []
    },
    {
      "cell_type": "code",
      "source": [
        "start_words = \"sense and\"\n",
        "num_words = 50\n",
        "# Make sure your 'model' and 'word_vectors' are defined and loaded appropriately.\n",
        "generated_text = generate_text(start_words, num_words, model, word_vectors)"
      ],
      "metadata": {
        "id": "hle2Icwa7o_I",
        "outputId": "a0d8c3ce-9d48-4f0e-f0c5-3b37f7a87f4c",
        "colab": {
          "base_uri": "https://localhost:8080/"
        }
      },
      "execution_count": 43,
      "outputs": [
        {
          "output_type": "stream",
          "name": "stdout",
          "text": [
            "1/1 [==============================] - 0s 21ms/step\n",
            "1/1 [==============================] - 0s 27ms/step\n",
            "1/1 [==============================] - 0s 23ms/step\n",
            "1/1 [==============================] - 0s 33ms/step\n",
            "1/1 [==============================] - 0s 32ms/step\n",
            "1/1 [==============================] - 0s 38ms/step\n",
            "1/1 [==============================] - 0s 32ms/step\n",
            "1/1 [==============================] - 0s 24ms/step\n",
            "1/1 [==============================] - 0s 21ms/step\n",
            "1/1 [==============================] - 0s 24ms/step\n",
            "1/1 [==============================] - 0s 27ms/step\n",
            "1/1 [==============================] - 0s 21ms/step\n",
            "1/1 [==============================] - 0s 21ms/step\n",
            "1/1 [==============================] - 0s 21ms/step\n",
            "1/1 [==============================] - 0s 22ms/step\n",
            "1/1 [==============================] - 0s 21ms/step\n",
            "1/1 [==============================] - 0s 25ms/step\n",
            "1/1 [==============================] - 0s 21ms/step\n",
            "1/1 [==============================] - 0s 24ms/step\n",
            "1/1 [==============================] - 0s 21ms/step\n",
            "1/1 [==============================] - 0s 22ms/step\n",
            "1/1 [==============================] - 0s 25ms/step\n",
            "1/1 [==============================] - 0s 25ms/step\n",
            "1/1 [==============================] - 0s 24ms/step\n",
            "1/1 [==============================] - 0s 21ms/step\n",
            "1/1 [==============================] - 0s 20ms/step\n",
            "1/1 [==============================] - 0s 22ms/step\n",
            "1/1 [==============================] - 0s 22ms/step\n",
            "1/1 [==============================] - 0s 22ms/step\n",
            "1/1 [==============================] - 0s 22ms/step\n",
            "1/1 [==============================] - 0s 38ms/step\n",
            "1/1 [==============================] - 0s 21ms/step\n",
            "1/1 [==============================] - 0s 21ms/step\n",
            "1/1 [==============================] - 0s 22ms/step\n",
            "1/1 [==============================] - 0s 22ms/step\n",
            "1/1 [==============================] - 0s 30ms/step\n",
            "1/1 [==============================] - 0s 33ms/step\n",
            "1/1 [==============================] - 0s 38ms/step\n",
            "1/1 [==============================] - 0s 39ms/step\n",
            "1/1 [==============================] - 0s 21ms/step\n",
            "1/1 [==============================] - 0s 22ms/step\n",
            "1/1 [==============================] - 0s 21ms/step\n",
            "1/1 [==============================] - 0s 22ms/step\n",
            "1/1 [==============================] - 0s 21ms/step\n",
            "1/1 [==============================] - 0s 21ms/step\n",
            "1/1 [==============================] - 0s 25ms/step\n",
            "1/1 [==============================] - 0s 23ms/step\n",
            "1/1 [==============================] - 0s 24ms/step\n",
            "1/1 [==============================] - 0s 22ms/step\n",
            "1/1 [==============================] - 0s 20ms/step\n"
          ]
        }
      ]
    },
    {
      "cell_type": "code",
      "source": [
        "generated_text"
      ],
      "metadata": {
        "id": "dO90x-rx7qNG",
        "outputId": "3ee3d257-1474-45c6-a861-8d19d2445ef5",
        "colab": {
          "base_uri": "https://localhost:8080/",
          "height": 52
        }
      },
      "execution_count": 44,
      "outputs": [
        {
          "output_type": "execute_result",
          "data": {
            "text/plain": [
              "'sense and heart when lucy came saying : about perfectly got : just often when fanny again fanny perfectly saw out about lucy engaged months came again about fanny out months just perfectly great looked perfectly about got when great these unfortunate when saying looked these good months these ( engaged about'"
            ],
            "application/vnd.google.colaboratory.intrinsic+json": {
              "type": "string"
            }
          },
          "metadata": {},
          "execution_count": 44
        }
      ]
    },
    {
      "cell_type": "markdown",
      "source": [
        "It is important to note that the quality of the generated text depends on the quality of the word embeddings used. The word embeddings in this example were trained on a small dataset using the CBOW word2vec model with a low-dimensional embedding space. As a result, the generated text may not be as coherent as expected.\n",
        "\n",
        "As the code above illustrates, both next word prediction and text generation tasks are complicated and these algorithms perform rather poorly. This is due to their inability to capture long-range dependencies in text. Large language models (LLMs) can address these limitations, but come at a huge cost in terms of training and computation.\n"
      ],
      "metadata": {
        "id": "_oLDD-Jc2PAo"
      }
    },
    {
      "cell_type": "markdown",
      "source": [
        "# Your turn\n",
        "\n",
        "1. Create next word prediction and text generation using n-grams based on the novel Moby Dick, by Herman Melville. You can access it with `melville-moby_dick.txt`.\n",
        "2. Create embeddings based on the file `tinyshakespeare.txt`.Find the closest words to 'king' and plot the results."
      ],
      "metadata": {
        "id": "x_fhW1xr2ijg"
      }
    }
  ]
}